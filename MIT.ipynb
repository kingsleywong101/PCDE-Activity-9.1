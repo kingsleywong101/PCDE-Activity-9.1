{
 "cells": [
  {
   "cell_type": "markdown",
   "metadata": {},
   "source": [
    "# The Massachusetts Institute of Technology (MIT)\n",
    "\n",
    "**Xiaolin Wang @kingsleywong101**\n",
    "\n",
    "The Massachusetts Institute of Technology (MIT) is a private land-grant research university in Cambridge, Massachusetts. Established in 1861, MIT has since been at the center of the development of modern technology and science. Since it was founded, MIT has been ranked among the top academic institutions in the world.\n",
    "\n",
    "The original MIT logo was created by type designer Matthew Carter, who invented the design of the lettering in 2003. The MIT seal has been in use since 1864. The seal represents two figures and three volumes: the craftsman at the anvil and the scholar with a book, symbolizing the Latin motto Mens et Manus - \"mind and hand\"; the volumes on the pedestal, Science and Arts, also reflecting the ideal of cooperation between knowledge and practice. \n",
    "\n",
    "Source:\n",
    "1. MIT Graphic Identity, 2022, https://web.mit.edu/graphicidentity/history.html\n",
    "2. Massachusetts Institute of Technology, 2022, https://en.wikipedia.org/wiki/Massachusetts_Institute_of_Technology\n",
    "3. MIT Logo, 2022, https://logos-world.net/mit-logo/\n"
   ]
  },
  {
   "cell_type": "code",
   "execution_count": null,
   "metadata": {},
   "outputs": [],
   "source": []
  }
 ],
 "metadata": {
  "kernelspec": {
   "display_name": "Python 3.10.4 64-bit",
   "language": "python",
   "name": "python3"
  },
  "language_info": {
   "codemirror_mode": {
    "name": "ipython",
    "version": 3
   },
   "file_extension": ".py",
   "mimetype": "text/x-python",
   "name": "python",
   "nbconvert_exporter": "python",
   "pygments_lexer": "ipython3",
   "version": "3.10.4"
  },
  "vscode": {
   "interpreter": {
    "hash": "aee8b7b246df8f9039afb4144a1f6fd8d2ca17a180786b69acc140d282b71a49"
   }
  }
 },
 "nbformat": 4,
 "nbformat_minor": 4
}
